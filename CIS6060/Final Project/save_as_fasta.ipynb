{
 "cells": [
  {
   "cell_type": "code",
   "execution_count": 1,
   "metadata": {},
   "outputs": [
    {
     "name": "stdout",
     "output_type": "stream",
     "text": [
      "Requirement already satisfied: numpy in /Library/Frameworks/Python.framework/Versions/3.11/lib/python3.11/site-packages (1.24.2)\n",
      "Requirement already satisfied: Bio in /Library/Frameworks/Python.framework/Versions/3.11/lib/python3.11/site-packages (1.7.1)\n",
      "Requirement already satisfied: biopython>=1.80 in /Library/Frameworks/Python.framework/Versions/3.11/lib/python3.11/site-packages (from Bio) (1.85)\n",
      "Requirement already satisfied: gprofiler-official in /Library/Frameworks/Python.framework/Versions/3.11/lib/python3.11/site-packages (from Bio) (1.0.0)\n",
      "Requirement already satisfied: mygene in /Library/Frameworks/Python.framework/Versions/3.11/lib/python3.11/site-packages (from Bio) (3.2.2)\n",
      "Requirement already satisfied: pandas in /Library/Frameworks/Python.framework/Versions/3.11/lib/python3.11/site-packages (from Bio) (2.2.3)\n",
      "Requirement already satisfied: pooch in /Library/Frameworks/Python.framework/Versions/3.11/lib/python3.11/site-packages (from Bio) (1.8.2)\n",
      "Requirement already satisfied: requests in /Library/Frameworks/Python.framework/Versions/3.11/lib/python3.11/site-packages (from Bio) (2.29.0)\n",
      "Requirement already satisfied: tqdm in /Library/Frameworks/Python.framework/Versions/3.11/lib/python3.11/site-packages (from Bio) (4.67.1)\n",
      "Requirement already satisfied: biothings-client>=0.2.6 in /Library/Frameworks/Python.framework/Versions/3.11/lib/python3.11/site-packages (from mygene->Bio) (0.4.1)\n",
      "Requirement already satisfied: python-dateutil>=2.8.2 in /Users/vanris/Library/Python/3.11/lib/python/site-packages (from pandas->Bio) (2.8.2)\n",
      "Requirement already satisfied: pytz>=2020.1 in /Library/Frameworks/Python.framework/Versions/3.11/lib/python3.11/site-packages (from pandas->Bio) (2023.3)\n",
      "Requirement already satisfied: tzdata>=2022.7 in /Library/Frameworks/Python.framework/Versions/3.11/lib/python3.11/site-packages (from pandas->Bio) (2025.1)\n",
      "Requirement already satisfied: platformdirs>=2.5.0 in /Users/vanris/Library/Python/3.11/lib/python/site-packages (from pooch->Bio) (3.0.0)\n",
      "Requirement already satisfied: packaging>=20.0 in /Users/vanris/Library/Python/3.11/lib/python/site-packages (from pooch->Bio) (23.0)\n",
      "Requirement already satisfied: charset-normalizer<4,>=2 in /Library/Frameworks/Python.framework/Versions/3.11/lib/python3.11/site-packages (from requests->Bio) (3.1.0)\n",
      "Requirement already satisfied: idna<4,>=2.5 in /Library/Frameworks/Python.framework/Versions/3.11/lib/python3.11/site-packages (from requests->Bio) (3.4)\n",
      "Requirement already satisfied: urllib3<1.27,>=1.21.1 in /Library/Frameworks/Python.framework/Versions/3.11/lib/python3.11/site-packages (from requests->Bio) (1.26.15)\n",
      "Requirement already satisfied: certifi>=2017.4.17 in /Library/Frameworks/Python.framework/Versions/3.11/lib/python3.11/site-packages (from requests->Bio) (2022.12.7)\n",
      "Requirement already satisfied: httpx>=0.22.0 in /Library/Frameworks/Python.framework/Versions/3.11/lib/python3.11/site-packages (from biothings-client>=0.2.6->mygene->Bio) (0.28.1)\n",
      "Requirement already satisfied: six>=1.5 in /Users/vanris/Library/Python/3.11/lib/python/site-packages (from python-dateutil>=2.8.2->pandas->Bio) (1.16.0)\n",
      "Requirement already satisfied: anyio in /Library/Frameworks/Python.framework/Versions/3.11/lib/python3.11/site-packages (from httpx>=0.22.0->biothings-client>=0.2.6->mygene->Bio) (4.8.0)\n",
      "Requirement already satisfied: httpcore==1.* in /Library/Frameworks/Python.framework/Versions/3.11/lib/python3.11/site-packages (from httpx>=0.22.0->biothings-client>=0.2.6->mygene->Bio) (1.0.7)\n",
      "Requirement already satisfied: h11<0.15,>=0.13 in /Library/Frameworks/Python.framework/Versions/3.11/lib/python3.11/site-packages (from httpcore==1.*->httpx>=0.22.0->biothings-client>=0.2.6->mygene->Bio) (0.14.0)\n",
      "Requirement already satisfied: sniffio>=1.1 in /Library/Frameworks/Python.framework/Versions/3.11/lib/python3.11/site-packages (from anyio->httpx>=0.22.0->biothings-client>=0.2.6->mygene->Bio) (1.3.1)\n",
      "Requirement already satisfied: typing_extensions>=4.5 in /Library/Frameworks/Python.framework/Versions/3.11/lib/python3.11/site-packages (from anyio->httpx>=0.22.0->biothings-client>=0.2.6->mygene->Bio) (4.12.2)\n",
      "\n",
      "\u001b[1m[\u001b[0m\u001b[34;49mnotice\u001b[0m\u001b[1;39;49m]\u001b[0m\u001b[39;49m A new release of pip is available: \u001b[0m\u001b[31;49m23.0.1\u001b[0m\u001b[39;49m -> \u001b[0m\u001b[32;49m25.0.1\u001b[0m\n",
      "\u001b[1m[\u001b[0m\u001b[34;49mnotice\u001b[0m\u001b[1;39;49m]\u001b[0m\u001b[39;49m To update, run: \u001b[0m\u001b[32;49mpip3 install --upgrade pip\u001b[0m\n",
      "Note: you may need to restart the kernel to use updated packages.\n"
     ]
    }
   ],
   "source": [
    "%pip install numpy Bio"
   ]
  },
  {
   "cell_type": "code",
   "execution_count": 3,
   "metadata": {},
   "outputs": [
    {
     "name": "stderr",
     "output_type": "stream",
     "text": [
      "转换 train 数据集: 100%|██████████| 8000000/8000000 [04:00<00:00, 33242.02seq/s]\n"
     ]
    },
    {
     "name": "stdout",
     "output_type": "stream",
     "text": [
      "\n",
      "✅ train 数据集转换完成！输出目录：virhunter_data/train\n"
     ]
    },
    {
     "name": "stderr",
     "output_type": "stream",
     "text": [
      "转换 test 数据集: 100%|██████████| 2558044/2558044 [01:05<00:00, 39216.16seq/s]\n"
     ]
    },
    {
     "name": "stdout",
     "output_type": "stream",
     "text": [
      "\n",
      "✅ test 数据集转换完成！输出目录：virhunter_data/test\n"
     ]
    }
   ],
   "source": [
    "# save_as_fasta.py\n",
    "import numpy as np\n",
    "from pathlib import Path\n",
    "from Bio import SeqIO\n",
    "from Bio.Seq import Seq\n",
    "from tqdm import tqdm  # 新增导入\n",
    "\n",
    "def onehot_to_seq(onehot):\n",
    "    \"\"\"将one-hot编码转换为核苷酸序列\"\"\"\n",
    "    nucleotides = ['A', 'T', 'C', 'G']\n",
    "    seq_length = len(onehot) // 4\n",
    "    reshaped_onehot = onehot.reshape(seq_length, 4)\n",
    "    return ''.join([nucleotides[np.argmax(vec)] for vec in reshaped_onehot])\n",
    "\n",
    "def convert_viRNAtrap_to_FASTA(\n",
    "    x_path: str,\n",
    "    y_path: str,\n",
    "    output_dir: str,\n",
    "    dataset_type: str = \"train\"\n",
    "):\n",
    "    # 加载数据\n",
    "    X = np.load(x_path)\n",
    "    y = np.load(y_path).astype(int)\n",
    "    \n",
    "    # 创建输出目录\n",
    "    virus_dir = Path(output_dir) / dataset_type / \"viruses\"\n",
    "    host_dir = Path(output_dir) / dataset_type / \"host\"\n",
    "    virus_dir.mkdir(parents=True, exist_ok=True)\n",
    "    host_dir.mkdir(parents=True, exist_ok=True)\n",
    "    \n",
    "    virus_records = []\n",
    "    host_records = []\n",
    "    \n",
    "    # 添加带进度条的循环\n",
    "    total_samples = len(X)\n",
    "    progress_bar = tqdm(\n",
    "        zip(X, y), \n",
    "        total=total_samples,\n",
    "        desc=f\"转换 {dataset_type} 数据集\",\n",
    "        unit=\"seq\"\n",
    "    )\n",
    "    \n",
    "    for i, (seq_onehot, label) in enumerate(progress_bar):\n",
    "        seq = onehot_to_seq(seq_onehot)\n",
    "        record = SeqIO.SeqRecord(\n",
    "            seq=Seq(seq),\n",
    "            id=f\"{'virus' if label == 1 else 'host'}_{dataset_type}_{i}\",\n",
    "            description=\"\"\n",
    "        )\n",
    "        if label == 1:\n",
    "            virus_records.append(record)\n",
    "        else:\n",
    "            host_records.append(record)\n",
    "    \n",
    "    # 写入文件\n",
    "    SeqIO.write(virus_records, virus_dir / \"sequences.fasta\", \"fasta\")\n",
    "    SeqIO.write(host_records, host_dir / \"sequences.fasta\", \"fasta\")\n",
    "    print(f\"\\n✅ {dataset_type} 数据集转换完成！输出目录：{output_dir}/{dataset_type}\")\n",
    "\n",
    "if __name__ == \"__main__\":\n",
    "    # 安装tqdm（如果尚未安装）\n",
    "    try:\n",
    "        from tqdm import tqdm\n",
    "    except ImportError:\n",
    "        print(\"正在安装 tqdm...\")\n",
    "        import subprocess\n",
    "        subprocess.check_call([\"pip\", \"install\", \"tqdm\"])\n",
    "        from tqdm import tqdm\n",
    "    \n",
    "    # 训练集转换\n",
    "    convert_viRNAtrap_to_FASTA(\n",
    "        x_path=\"train_test_data/train_x.npy\",\n",
    "        y_path=\"train_test_data/train_y.npy\",\n",
    "        output_dir=\"virhunter_data\",\n",
    "        dataset_type=\"train\"\n",
    "    )\n",
    "    \n",
    "    # 测试集转换\n",
    "    convert_viRNAtrap_to_FASTA(\n",
    "        x_path=\"train_test_data/test_x.npy\",\n",
    "        y_path=\"train_test_data/test_y.npy\",\n",
    "        output_dir=\"virhunter_data\",\n",
    "        dataset_type=\"test\"\n",
    "    )\n",
    "    # test_onehot = np.array([1,0,0,0, 0,1,0,0])  # 对应 'A','T'\n",
    "    # print(onehot_to_seq(test_onehot))  # 应输出 'AT'"
   ]
  }
 ],
 "metadata": {
  "kernelspec": {
   "display_name": "Python 3",
   "language": "python",
   "name": "python3"
  },
  "language_info": {
   "codemirror_mode": {
    "name": "ipython",
    "version": 3
   },
   "file_extension": ".py",
   "mimetype": "text/x-python",
   "name": "python",
   "nbconvert_exporter": "python",
   "pygments_lexer": "ipython3",
   "version": "3.11.2"
  }
 },
 "nbformat": 4,
 "nbformat_minor": 2
}
